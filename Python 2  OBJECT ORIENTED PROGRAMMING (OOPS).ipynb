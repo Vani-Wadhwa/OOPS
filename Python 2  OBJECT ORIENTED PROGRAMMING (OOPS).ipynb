{
 "cells": [
  {
   "cell_type": "code",
   "execution_count": 1,
   "metadata": {},
   "outputs": [],
   "source": [
    "class myclass:\n",
    "    k=12\n",
    "    d=19\n",
    "    def testf():\n",
    "        print(\"first class\")"
   ]
  },
  {
   "cell_type": "code",
   "execution_count": 2,
   "metadata": {},
   "outputs": [],
   "source": [
    "#creating object\n",
    "m=myclass()"
   ]
  },
  {
   "cell_type": "code",
   "execution_count": 3,
   "metadata": {},
   "outputs": [
    {
     "name": "stdout",
     "output_type": "stream",
     "text": [
      "12\n",
      "19\n"
     ]
    },
    {
     "data": {
      "text/plain": [
       "<bound method myclass.testf of <__main__.myclass object at 0x000002401C03B700>>"
      ]
     },
     "execution_count": 3,
     "metadata": {},
     "output_type": "execute_result"
    }
   ],
   "source": [
    "#calling attributes with member function\n",
    "print(m.k)\n",
    "print(m.d)\n",
    "m.testf"
   ]
  },
  {
   "cell_type": "code",
   "execution_count": 4,
   "metadata": {},
   "outputs": [],
   "source": [
    "class calculator:\n",
    "    def addition(a,b):\n",
    "        return (a+b)\n",
    "    def division(a,b):\n",
    "        return (a/b)"
   ]
  },
  {
   "cell_type": "code",
   "execution_count": 5,
   "metadata": {},
   "outputs": [
    {
     "name": "stdout",
     "output_type": "stream",
     "text": [
      "11\n",
      "2.25\n"
     ]
    }
   ],
   "source": [
    "print(calculator.addition(4,7))\n",
    "print(calculator.division(9,4))"
   ]
  },
  {
   "cell_type": "code",
   "execution_count": 6,
   "metadata": {},
   "outputs": [],
   "source": [
    "class employee:\n",
    "    emp_id=100\n",
    "    emp_name='john'\n",
    "    emp_dept='HR'\n",
    "    \n",
    "    def message(self):\n",
    "        return 'employee will join soon'"
   ]
  },
  {
   "cell_type": "code",
   "execution_count": 7,
   "metadata": {},
   "outputs": [
    {
     "name": "stdout",
     "output_type": "stream",
     "text": [
      "100\n",
      "<function employee.message at 0x000002401C07E3A0>\n"
     ]
    }
   ],
   "source": [
    "print(employee.emp_id)\n",
    "print(employee.message)"
   ]
  },
  {
   "cell_type": "code",
   "execution_count": 8,
   "metadata": {},
   "outputs": [],
   "source": [
    "#init function:initialising the values\n",
    "class employee:\n",
    "    def __init__(self,name,age):\n",
    "        self.name=name\n",
    "        self.age=age"
   ]
  },
  {
   "cell_type": "code",
   "execution_count": 9,
   "metadata": {},
   "outputs": [
    {
     "name": "stdout",
     "output_type": "stream",
     "text": [
      "sam\n",
      "28\n"
     ]
    }
   ],
   "source": [
    "p1=employee('sam',28)\n",
    "print(p1.name)\n",
    "print(p1.age)"
   ]
  },
  {
   "cell_type": "code",
   "execution_count": 10,
   "metadata": {},
   "outputs": [],
   "source": [
    "class car:\n",
    "    def __init__(self,company,color):\n",
    "        self.company=company\n",
    "        self.color=color\n",
    "    def display(self):\n",
    "        print(\"This is a\",self.color,self.company)"
   ]
  },
  {
   "cell_type": "code",
   "execution_count": 11,
   "metadata": {},
   "outputs": [],
   "source": [
    "def main():\n",
    "    c=car('Ferrari','red')\n",
    "    c.display()"
   ]
  },
  {
   "cell_type": "code",
   "execution_count": 12,
   "metadata": {},
   "outputs": [
    {
     "name": "stdout",
     "output_type": "stream",
     "text": [
      "This is a red Ferrari\n"
     ]
    }
   ],
   "source": [
    "#standard way of calling a function\n",
    "if __name__==\"__main__\":\n",
    "    main()"
   ]
  },
  {
   "cell_type": "code",
   "execution_count": 13,
   "metadata": {},
   "outputs": [
    {
     "name": "stdout",
     "output_type": "stream",
     "text": [
      "This is a red Ferrari\n"
     ]
    }
   ],
   "source": [
    "main()"
   ]
  },
  {
   "cell_type": "code",
   "execution_count": 14,
   "metadata": {},
   "outputs": [],
   "source": [
    "class employee:\n",
    "    def __init__(self,name,age):\n",
    "        print(\"initialised method called\")\n",
    "        self.name=name\n",
    "        self.age=age\n",
    "    def getmethod(self,name,age):\n",
    "        print(\"get method called\")\n",
    "        self.name=name\n",
    "        self.age=age\n",
    "    def display(self):\n",
    "        print(\"hello\",self.name,\"and my age is\",self.age)"
   ]
  },
  {
   "cell_type": "code",
   "execution_count": 15,
   "metadata": {},
   "outputs": [
    {
     "name": "stdout",
     "output_type": "stream",
     "text": [
      "initialised method called\n",
      "hello john and my age is 25\n",
      "get method called\n",
      "hello sam and my age is 28\n"
     ]
    }
   ],
   "source": [
    "def main():\n",
    "    e=employee('john',25)\n",
    "    e.display()\n",
    "    e.getmethod('sam',28)\n",
    "    e.display()\n",
    "    \n",
    "if __name__=='__main__':\n",
    "    main()"
   ]
  },
  {
   "cell_type": "code",
   "execution_count": null,
   "metadata": {},
   "outputs": [],
   "source": []
  }
 ],
 "metadata": {
  "kernelspec": {
   "display_name": "Python 3",
   "language": "python",
   "name": "python3"
  },
  "language_info": {
   "codemirror_mode": {
    "name": "ipython",
    "version": 3
   },
   "file_extension": ".py",
   "mimetype": "text/x-python",
   "name": "python",
   "nbconvert_exporter": "python",
   "pygments_lexer": "ipython3",
   "version": "3.8.3"
  }
 },
 "nbformat": 4,
 "nbformat_minor": 4
}
